{
 "cells": [
  {
   "cell_type": "code",
   "execution_count": 29,
   "id": "69b19c6f-779f-46bf-bf61-4d75a5b3207a",
   "metadata": {},
   "outputs": [],
   "source": [
    "import pandas as pd\n",
    "df = pd.read_csv(\"../FeatureEgnineering/standard_heartrate.csv\")\n",
    "X = df.drop(\"Heart Attack Risk\", axis = 1)\n",
    "y = df[\"Heart Attack Risk\"]"
   ]
  },
  {
   "cell_type": "code",
   "execution_count": 30,
   "id": "c1d4d74c-fc2d-40b6-917c-e7e61755403f",
   "metadata": {},
   "outputs": [],
   "source": [
    "X.drop(\"Unnamed: 0\", axis = 1, inplace = True)\n",
    "X.Sex = (X.Sex == \"Male\")"
   ]
  },
  {
   "cell_type": "markdown",
   "id": "10ed12da-1638-4abb-b7c0-a0635ea22bff",
   "metadata": {},
   "source": [
    "## This is for train test split"
   ]
  },
  {
   "cell_type": "code",
   "execution_count": 31,
   "id": "612327f7-1cd3-4dbf-a0b5-c791e3ec38ca",
   "metadata": {},
   "outputs": [],
   "source": [
    "from sklearn.model_selection import train_test_split\n",
    "X_train, X_test, y_train, y_test = train_test_split(X, y, test_size=0.2, random_state=42)"
   ]
  },
  {
   "cell_type": "markdown",
   "id": "af6b1bd1-0e12-44e1-8c7b-62b1c4ab79ce",
   "metadata": {},
   "source": [
    "## This is for GBM model"
   ]
  },
  {
   "cell_type": "code",
   "execution_count": 32,
   "id": "638f938d-cade-425f-adbb-ee8dc83797d4",
   "metadata": {},
   "outputs": [],
   "source": [
    "from sklearn.ensemble import GradientBoostingClassifier\n",
    "from sklearn.model_selection import GridSearchCV\n",
    "\n",
    "# Hyperparameter grid\n",
    "param_grid = {\n",
    "    'n_estimators': [100, 200, 300],\n",
    "    'learning_rate': [0.01, 0.1, 0.2],\n",
    "    'max_depth': [3, 4, 5]\n",
    "}\n",
    "\n",
    "# Model and grid search for classification\n",
    "gbm = GradientBoostingClassifier(random_state=42)\n",
    "grid_search = GridSearchCV(estimator=gbm, param_grid=param_grid, cv=5, scoring='accuracy')\n",
    "grid_search.fit(X_train, y_train)\n",
    "\n",
    "best_gbm = grid_search.best_estimator_"
   ]
  },
  {
   "cell_type": "code",
   "execution_count": 33,
   "id": "851f4490-fd40-4b8d-aac0-cfc445b9d9de",
   "metadata": {},
   "outputs": [
    {
     "name": "stdout",
     "output_type": "stream",
     "text": [
      "Best Hyperparameters for GBM: {'learning_rate': 0.01, 'max_depth': 3, 'n_estimators': 100}\n"
     ]
    }
   ],
   "source": [
    "best_hyperparameters = grid_search.best_params_\n",
    "print(\"Best Hyperparameters for GBM:\", best_hyperparameters)"
   ]
  },
  {
   "cell_type": "markdown",
   "id": "214ff585-6794-4adf-af72-2f2151a45b9e",
   "metadata": {},
   "source": [
    "## Model Evaluation of GBM"
   ]
  },
  {
   "cell_type": "code",
   "execution_count": 34,
   "id": "7146bd8e-3a7b-4082-95da-280acc9d7588",
   "metadata": {},
   "outputs": [
    {
     "name": "stdout",
     "output_type": "stream",
     "text": [
      "GBM Model Accuracy: 0.6417569880205363\n"
     ]
    }
   ],
   "source": [
    "from sklearn.metrics import accuracy_score\n",
    "\n",
    "# GBM model evaluation\n",
    "gbm_predictions = best_gbm.predict(X_test)\n",
    "gbm_accuracy = accuracy_score(y_test, gbm_predictions)\n",
    "print(f\"GBM Model Accuracy: {gbm_accuracy}\")"
   ]
  },
  {
   "cell_type": "markdown",
   "id": "5682dc09-a272-46db-a2bb-4c4bb8711c72",
   "metadata": {},
   "source": [
    "## This is for NN model"
   ]
  },
  {
   "cell_type": "code",
   "execution_count": 35,
   "id": "06423dcc-c424-4718-9e8c-6d0b5b49c46b",
   "metadata": {},
   "outputs": [
    {
     "name": "stdout",
     "output_type": "stream",
     "text": [
      "Layers: [64, 32], LR: 0.1, Avg Accuracy: 0.6417974352836608\n",
      "Layers: [64, 32], LR: 0.01, Avg Accuracy: 0.5265335202217102\n",
      "Layers: [64, 32], LR: 0.001, Avg Accuracy: 0.5368045687675476\n",
      "Layers: [32], LR: 0.1, Avg Accuracy: 0.6416547894477844\n",
      "Layers: [32], LR: 0.01, Avg Accuracy: 0.5788873076438904\n",
      "Layers: [32], LR: 0.001, Avg Accuracy: 0.5711840152740478\n",
      "Layers: [16], LR: 0.1, Avg Accuracy: 0.6417974352836608\n",
      "Layers: [16], LR: 0.01, Avg Accuracy: 0.6052781581878662\n",
      "Layers: [16], LR: 0.001, Avg Accuracy: 0.5945791721343994\n",
      "Best Configuration: Layers: [64, 32], Learning Rate: 0.1, Accuracy: 0.6417974352836608\n"
     ]
    }
   ],
   "source": [
    "import tensorflow as tf\n",
    "from tensorflow.keras.models import Sequential\n",
    "from tensorflow.keras.layers import Dense\n",
    "from tensorflow.keras.optimizers.legacy import Adam\n",
    "from sklearn.model_selection import KFold\n",
    "from sklearn.preprocessing import StandardScaler\n",
    "import numpy as np\n",
    "\n",
    "layer_configs = [\n",
    "    [64, 32], \n",
    "    [32],\n",
    "    [16]\n",
    "]\n",
    "learning_rates = [0.1, 0.01, 0.001]\n",
    "\n",
    "# Prepare cross-validation\n",
    "kf = KFold(n_splits=5, shuffle=True, random_state=42)\n",
    "\n",
    "# Function to create a model given a layer configuration\n",
    "def create_model(layers):\n",
    "    model = Sequential()\n",
    "    model.add(Dense(layers[0], activation='relu', input_shape=(X_train.shape[1],)))\n",
    "    for nodes in layers[1:]:\n",
    "        model.add(Dense(nodes, activation='relu'))\n",
    "    model.add(Dense(1, activation='sigmoid')) \n",
    "    return model\n",
    "\n",
    "# Iterate over configurations and cross-validate\n",
    "best_score = 0\n",
    "best_config = None\n",
    "\n",
    "for layers in layer_configs:\n",
    "    for lr in learning_rates:\n",
    "        scores = []\n",
    "        for train_index, val_index in kf.split(X_train):\n",
    "            X_train_fold, X_val_fold = X_train.iloc[train_index], X_train.iloc[val_index]\n",
    "            y_train_fold, y_val_fold = y_train.iloc[train_index], y_train.iloc[val_index]\n",
    "               \n",
    "            X_train_fold = tf.convert_to_tensor(X_train_fold, dtype=tf.float32)\n",
    "            X_val_fold = tf.convert_to_tensor(X_val_fold, dtype=tf.float32)\n",
    "            y_train_fold = tf.convert_to_tensor(y_train_fold, dtype=tf.float32)\n",
    "            y_val_fold = tf.convert_to_tensor(y_val_fold, dtype=tf.float32)\n",
    "            \n",
    "            # Create and compile model\n",
    "            model = create_model(layers)\n",
    "            model.compile(optimizer=Adam(learning_rate=lr), loss='binary_crossentropy', metrics=['accuracy'])\n",
    "            \n",
    "            # Train model\n",
    "            model.fit(X_train_fold, y_train_fold, epochs=100, verbose=0, validation_data=(X_val_fold, y_val_fold))\n",
    "            \n",
    "            # Evaluate model\n",
    "            _, score = model.evaluate(X_val_fold, y_val_fold, verbose=0)\n",
    "            scores.append(score)\n",
    "        \n",
    "        # Average score for this configuration\n",
    "        avg_score = np.mean(scores)\n",
    "        print(f\"Layers: {layers}, LR: {lr}, Avg Accuracy: {avg_score}\")\n",
    "        \n",
    "        if avg_score > best_score:\n",
    "            best_score = avg_score\n",
    "            best_config = (layers, lr)\n",
    "\n",
    "print(f\"Best Configuration: Layers: {best_config[0]}, Learning Rate: {best_config[1]}, Accuracy: {best_score}\")"
   ]
  },
  {
   "cell_type": "markdown",
   "id": "9d945fb0-e7c0-42be-9e12-6cbd3615bfe0",
   "metadata": {},
   "source": [
    "## Model Validation for NN"
   ]
  },
  {
   "cell_type": "code",
   "execution_count": 49,
   "id": "0c2530e7-eb78-4d9d-a696-67ab3d55ad3c",
   "metadata": {},
   "outputs": [
    {
     "name": "stdout",
     "output_type": "stream",
     "text": [
      "55/55 [==============================] - 0s 593us/step\n",
      "GBM Model Accuracy: 0.6411865373645179\n"
     ]
    }
   ],
   "source": [
    "model = create_model([16])\n",
    "X_train = tf.convert_to_tensor(X_train, dtype=tf.float32)\n",
    "y_train = tf.convert_to_tensor(y_train, dtype=tf.float32)\n",
    "X_test = tf.convert_to_tensor(X_test, dtype=tf.float32)\n",
    "model.compile(optimizer=Adam(learning_rate=0.1), loss='binary_crossentropy', metrics=['accuracy'])\n",
    "\n",
    "model.fit(X_train, y_train, epochs=100, verbose=0)\n",
    "nn_predictions = model.predict(X_test)\n",
    "nn_predictions = nn_predictions > 0.5\n",
    "nn_accuracy = accuracy_score(np.array(y_test), nn_predictions)\n",
    "print(f\"GBM Model Accuracy: {nn_accuracy}\")"
   ]
  }
 ],
 "metadata": {
  "kernelspec": {
   "display_name": "Python 3 (ipykernel)",
   "language": "python",
   "name": "python3"
  },
  "language_info": {
   "codemirror_mode": {
    "name": "ipython",
    "version": 3
   },
   "file_extension": ".py",
   "mimetype": "text/x-python",
   "name": "python",
   "nbconvert_exporter": "python",
   "pygments_lexer": "ipython3",
   "version": "3.11.6"
  }
 },
 "nbformat": 4,
 "nbformat_minor": 5
}
